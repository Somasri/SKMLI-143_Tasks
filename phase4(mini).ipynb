{
  "nbformat": 4,
  "nbformat_minor": 0,
  "metadata": {
    "colab": {
      "provenance": [],
      "authorship_tag": "ABX9TyMv1UufXGkh7/hTmkCGAFxy",
      "include_colab_link": true
    },
    "kernelspec": {
      "name": "python3",
      "display_name": "Python 3"
    },
    "language_info": {
      "name": "python"
    }
  },
  "cells": [
    {
      "cell_type": "markdown",
      "metadata": {
        "id": "view-in-github",
        "colab_type": "text"
      },
      "source": [
        "<a href=\"https://colab.research.google.com/github/Somasri/SKMLI-143_Tasks/blob/main/phase4(mini).ipynb\" target=\"_parent\"><img src=\"https://colab.research.google.com/assets/colab-badge.svg\" alt=\"Open In Colab\"/></a>"
      ]
    },
    {
      "cell_type": "code",
      "execution_count": 22,
      "metadata": {
        "colab": {
          "base_uri": "https://localhost:8080/",
          "height": 903
        },
        "id": "6GlNKCaZ6Rl7",
        "outputId": "ed50343b-2bf2-4e15-f2ad-affe66c273b3"
      },
      "outputs": [
        {
          "output_type": "stream",
          "name": "stdout",
          "text": [
            "   fixed acidity  volatile acidity  citric acid  residual sugar  chlorides  \\\n",
            "0            7.4              0.70         0.00             1.9      0.076   \n",
            "1            7.8              0.88         0.00             2.6      0.098   \n",
            "2            7.8              0.76         0.04             2.3      0.092   \n",
            "3           11.2              0.28         0.56             1.9      0.075   \n",
            "4            7.4              0.70         0.00             1.9      0.076   \n",
            "\n",
            "   free sulfur dioxide  total sulfur dioxide  density    pH  sulphates  \\\n",
            "0                 11.0                  34.0   0.9978  3.51       0.56   \n",
            "1                 25.0                  67.0   0.9968  3.20       0.68   \n",
            "2                 15.0                  54.0   0.9970  3.26       0.65   \n",
            "3                 17.0                  60.0   0.9980  3.16       0.58   \n",
            "4                 11.0                  34.0   0.9978  3.51       0.56   \n",
            "\n",
            "   alcohol  quality  \n",
            "0      9.4        5  \n",
            "1      9.8        5  \n",
            "2      9.8        5  \n",
            "3      9.8        6  \n",
            "4      9.4        5  \n",
            "Index(['fixed acidity', 'volatile acidity', 'citric acid', 'residual sugar',\n",
            "       'chlorides', 'free sulfur dioxide', 'total sulfur dioxide', 'density',\n",
            "       'pH', 'sulphates', 'alcohol', 'quality'],\n",
            "      dtype='object')\n"
          ]
        },
        {
          "output_type": "execute_result",
          "data": {
            "text/plain": [
              "fixed acidity           0\n",
              "volatile acidity        0\n",
              "citric acid             0\n",
              "residual sugar          0\n",
              "chlorides               0\n",
              "free sulfur dioxide     0\n",
              "total sulfur dioxide    0\n",
              "density                 0\n",
              "pH                      0\n",
              "sulphates               0\n",
              "alcohol                 0\n",
              "quality                 0\n",
              "dtype: int64"
            ],
            "text/html": [
              "<div>\n",
              "<style scoped>\n",
              "    .dataframe tbody tr th:only-of-type {\n",
              "        vertical-align: middle;\n",
              "    }\n",
              "\n",
              "    .dataframe tbody tr th {\n",
              "        vertical-align: top;\n",
              "    }\n",
              "\n",
              "    .dataframe thead th {\n",
              "        text-align: right;\n",
              "    }\n",
              "</style>\n",
              "<table border=\"1\" class=\"dataframe\">\n",
              "  <thead>\n",
              "    <tr style=\"text-align: right;\">\n",
              "      <th></th>\n",
              "      <th>0</th>\n",
              "    </tr>\n",
              "  </thead>\n",
              "  <tbody>\n",
              "    <tr>\n",
              "      <th>fixed acidity</th>\n",
              "      <td>0</td>\n",
              "    </tr>\n",
              "    <tr>\n",
              "      <th>volatile acidity</th>\n",
              "      <td>0</td>\n",
              "    </tr>\n",
              "    <tr>\n",
              "      <th>citric acid</th>\n",
              "      <td>0</td>\n",
              "    </tr>\n",
              "    <tr>\n",
              "      <th>residual sugar</th>\n",
              "      <td>0</td>\n",
              "    </tr>\n",
              "    <tr>\n",
              "      <th>chlorides</th>\n",
              "      <td>0</td>\n",
              "    </tr>\n",
              "    <tr>\n",
              "      <th>free sulfur dioxide</th>\n",
              "      <td>0</td>\n",
              "    </tr>\n",
              "    <tr>\n",
              "      <th>total sulfur dioxide</th>\n",
              "      <td>0</td>\n",
              "    </tr>\n",
              "    <tr>\n",
              "      <th>density</th>\n",
              "      <td>0</td>\n",
              "    </tr>\n",
              "    <tr>\n",
              "      <th>pH</th>\n",
              "      <td>0</td>\n",
              "    </tr>\n",
              "    <tr>\n",
              "      <th>sulphates</th>\n",
              "      <td>0</td>\n",
              "    </tr>\n",
              "    <tr>\n",
              "      <th>alcohol</th>\n",
              "      <td>0</td>\n",
              "    </tr>\n",
              "    <tr>\n",
              "      <th>quality</th>\n",
              "      <td>0</td>\n",
              "    </tr>\n",
              "  </tbody>\n",
              "</table>\n",
              "</div><br><label><b>dtype:</b> int64</label>"
            ]
          },
          "metadata": {},
          "execution_count": 22
        }
      ],
      "source": [
        "import pandas as pd\n",
        "url = '/content/winequality-red.csv'\n",
        "df = pd.read_csv(url, sep=';')\n",
        "print(df.head())\n",
        "print(df.columns)\n",
        "df.isnull().sum()\n",
        "\n"
      ]
    },
    {
      "cell_type": "code",
      "source": [
        "from sklearn.preprocessing import StandardScaler\n",
        "scaler = StandardScaler()\n",
        "features = df.drop('quality',axis=1)\n",
        "scaled_features = scaler.fit_transform(features)\n"
      ],
      "metadata": {
        "id": "scYyyn6r8QeP"
      },
      "execution_count": 23,
      "outputs": []
    },
    {
      "cell_type": "code",
      "source": [
        "from sklearn.model_selection import train_test_split\n",
        "X = scaled_features\n",
        "y = df['quality']\n",
        "X_train, X_test, y_train, y_test = train_test_split(X, y, test_size=0.3, random_state=42)"
      ],
      "metadata": {
        "id": "oI2XC86V8tXd"
      },
      "execution_count": 24,
      "outputs": []
    },
    {
      "cell_type": "code",
      "source": [
        "from sklearn.linear_model import LogisticRegression\n",
        "from sklearn.metrics import accuracy_score, classification_report, confusion_matrix\n",
        "model = LogisticRegression(max_iter=1000)\n",
        "model.fit(X_train, y_train)\n",
        "# Make predictions\n",
        "preds = model.predict(X_test)\n",
        "\n",
        "# Evaluate models\n",
        "print(\"--- {Logistic Regression} ---\")\n",
        "a=accuracy_score(y_test, preds)\n",
        "print(\"Accuracy:\", accuracy_score(y_test, preds))\n",
        "print(\"Classification Report:\\n\", classification_report(y_test, preds))\n",
        "print(\"Confusion Matrix:\\n\", confusion_matrix(y_test, preds))\n",
        "print(\"\\n\")\n"
      ],
      "metadata": {
        "id": "fLVml5Cp80X0",
        "colab": {
          "base_uri": "https://localhost:8080/"
        },
        "outputId": "e4d7a6cd-cdcf-49b7-cde5-89da57232f1c"
      },
      "execution_count": 31,
      "outputs": [
        {
          "output_type": "stream",
          "name": "stdout",
          "text": [
            "--- {Logistic Regression} ---\n",
            "Accuracy: 0.5645833333333333\n",
            "Classification Report:\n",
            "               precision    recall  f1-score   support\n",
            "\n",
            "           3       0.00      0.00      0.00         1\n",
            "           4       0.00      0.00      0.00        17\n",
            "           5       0.62      0.75      0.68       195\n",
            "           6       0.53      0.55      0.54       200\n",
            "           7       0.42      0.26      0.32        61\n",
            "           8       0.00      0.00      0.00         6\n",
            "\n",
            "    accuracy                           0.56       480\n",
            "   macro avg       0.26      0.26      0.26       480\n",
            "weighted avg       0.53      0.56      0.54       480\n",
            "\n",
            "Confusion Matrix:\n",
            " [[  0   0   1   0   0   0]\n",
            " [  0   0  11   6   0   0]\n",
            " [  0   0 146  49   0   0]\n",
            " [  0   0  73 109  18   0]\n",
            " [  0   0   4  41  16   0]\n",
            " [  0   0   0   2   4   0]]\n",
            "\n",
            "\n"
          ]
        },
        {
          "output_type": "stream",
          "name": "stderr",
          "text": [
            "/usr/local/lib/python3.10/dist-packages/sklearn/metrics/_classification.py:1471: UndefinedMetricWarning: Precision and F-score are ill-defined and being set to 0.0 in labels with no predicted samples. Use `zero_division` parameter to control this behavior.\n",
            "  _warn_prf(average, modifier, msg_start, len(result))\n",
            "/usr/local/lib/python3.10/dist-packages/sklearn/metrics/_classification.py:1471: UndefinedMetricWarning: Precision and F-score are ill-defined and being set to 0.0 in labels with no predicted samples. Use `zero_division` parameter to control this behavior.\n",
            "  _warn_prf(average, modifier, msg_start, len(result))\n",
            "/usr/local/lib/python3.10/dist-packages/sklearn/metrics/_classification.py:1471: UndefinedMetricWarning: Precision and F-score are ill-defined and being set to 0.0 in labels with no predicted samples. Use `zero_division` parameter to control this behavior.\n",
            "  _warn_prf(average, modifier, msg_start, len(result))\n"
          ]
        }
      ]
    },
    {
      "cell_type": "code",
      "source": [
        "from sklearn.tree import DecisionTreeClassifier\n",
        "model = DecisionTreeClassifier()\n",
        "model.fit(X_train, y_train)\n",
        "preds = model.predict(X_test)\n",
        "\n",
        "# Evaluate models\n",
        "print(\"--- {Decision Tree Classifier} ---\")\n",
        "b=accuracy_score(y_test, preds)\n",
        "print(\"Accuracy:\", accuracy_score(y_test, preds))\n",
        "print(\"Classification Report:\\n\", classification_report(y_test, preds))\n",
        "print(\"Confusion Matrix:\\n\", confusion_matrix(y_test, preds))\n",
        "print(\"\\n\")"
      ],
      "metadata": {
        "id": "crJ63PsQ9lX_",
        "colab": {
          "base_uri": "https://localhost:8080/"
        },
        "outputId": "f0f87e07-8283-4a8a-c954-3a327adf0f81"
      },
      "execution_count": 32,
      "outputs": [
        {
          "output_type": "stream",
          "name": "stdout",
          "text": [
            "--- {Decision Tree Classifier} ---\n",
            "Accuracy: 0.5625\n",
            "Classification Report:\n",
            "               precision    recall  f1-score   support\n",
            "\n",
            "           3       0.00      0.00      0.00         1\n",
            "           4       0.05      0.06      0.05        17\n",
            "           5       0.66      0.62      0.64       195\n",
            "           6       0.58      0.59      0.59       200\n",
            "           7       0.45      0.46      0.46        61\n",
            "           8       0.25      0.17      0.20         6\n",
            "\n",
            "    accuracy                           0.56       480\n",
            "   macro avg       0.33      0.32      0.32       480\n",
            "weighted avg       0.57      0.56      0.57       480\n",
            "\n",
            "Confusion Matrix:\n",
            " [[  0   0   1   0   0   0]\n",
            " [  0   1   9   6   1   0]\n",
            " [  2  13 121  54   5   0]\n",
            " [  0   6  48 119  26   1]\n",
            " [  0   2   5  24  28   2]\n",
            " [  0   0   0   3   2   1]]\n",
            "\n",
            "\n"
          ]
        }
      ]
    },
    {
      "cell_type": "code",
      "source": [
        "from sklearn.ensemble import RandomForestClassifier\n",
        "model = RandomForestClassifier()\n",
        "model.fit(X_train, y_train)\n",
        "preds = model.predict(X_test)\n",
        "\n",
        "# Evaluate models\n",
        "print(\"--- {Random Forest Classifier} ---\")\n",
        "c=accuracy_score(y_test, preds)\n",
        "print(\"Accuracy:\", accuracy_score(y_test, preds))\n",
        "print(\"Classification Report:\\n\", classification_report(y_test, preds))\n",
        "print(\"Confusion Matrix:\\n\", confusion_matrix(y_test, preds))\n",
        "print(\"\\n\")"
      ],
      "metadata": {
        "id": "A6zNJDZ-90Ys",
        "colab": {
          "base_uri": "https://localhost:8080/"
        },
        "outputId": "27a9cada-6f9c-43a6-b3ee-d5e98a6c7a4c"
      },
      "execution_count": 33,
      "outputs": [
        {
          "output_type": "stream",
          "name": "stdout",
          "text": [
            "--- {Random Forest Classifier} ---\n",
            "Accuracy: 0.6645833333333333\n",
            "Classification Report:\n",
            "               precision    recall  f1-score   support\n",
            "\n",
            "           3       0.00      0.00      0.00         1\n",
            "           4       0.00      0.00      0.00        17\n",
            "           5       0.73      0.76      0.75       195\n",
            "           6       0.63      0.70      0.67       200\n",
            "           7       0.55      0.49      0.52        61\n",
            "           8       0.50      0.17      0.25         6\n",
            "\n",
            "    accuracy                           0.66       480\n",
            "   macro avg       0.40      0.35      0.36       480\n",
            "weighted avg       0.64      0.66      0.65       480\n",
            "\n",
            "Confusion Matrix:\n",
            " [[  0   0   1   0   0   0]\n",
            " [  0   0  10   7   0   0]\n",
            " [  0   0 148  43   4   0]\n",
            " [  0   0  43 140  17   0]\n",
            " [  0   0   0  30  30   1]\n",
            " [  0   0   0   1   4   1]]\n",
            "\n",
            "\n"
          ]
        },
        {
          "output_type": "stream",
          "name": "stderr",
          "text": [
            "/usr/local/lib/python3.10/dist-packages/sklearn/metrics/_classification.py:1471: UndefinedMetricWarning: Precision and F-score are ill-defined and being set to 0.0 in labels with no predicted samples. Use `zero_division` parameter to control this behavior.\n",
            "  _warn_prf(average, modifier, msg_start, len(result))\n",
            "/usr/local/lib/python3.10/dist-packages/sklearn/metrics/_classification.py:1471: UndefinedMetricWarning: Precision and F-score are ill-defined and being set to 0.0 in labels with no predicted samples. Use `zero_division` parameter to control this behavior.\n",
            "  _warn_prf(average, modifier, msg_start, len(result))\n",
            "/usr/local/lib/python3.10/dist-packages/sklearn/metrics/_classification.py:1471: UndefinedMetricWarning: Precision and F-score are ill-defined and being set to 0.0 in labels with no predicted samples. Use `zero_division` parameter to control this behavior.\n",
            "  _warn_prf(average, modifier, msg_start, len(result))\n"
          ]
        }
      ]
    },
    {
      "cell_type": "code",
      "source": [
        "from sklearn.svm import SVC\n",
        "model = SVC()\n",
        "model.fit(X_train, y_train)\n",
        "preds = model.predict(X_test)\n",
        "\n",
        "# Evaluate models\n",
        "print(\"--- {SVC} ---\")\n",
        "d=accuracy_score(y_test, preds)\n",
        "print(\"Accuracy:\", accuracy_score(y_test, preds))\n",
        "print(\"Classification Report:\\n\", classification_report(y_test, preds))\n",
        "print(\"Confusion Matrix:\\n\", confusion_matrix(y_test, preds))\n",
        "print(\"\\n\")"
      ],
      "metadata": {
        "id": "YEy7Nfli98tv",
        "colab": {
          "base_uri": "https://localhost:8080/"
        },
        "outputId": "8624b8b4-0a18-417f-e4ad-892cabee1a6d"
      },
      "execution_count": 34,
      "outputs": [
        {
          "output_type": "stream",
          "name": "stdout",
          "text": [
            "--- {SVC} ---\n",
            "Accuracy: 0.60625\n",
            "Classification Report:\n",
            "               precision    recall  f1-score   support\n",
            "\n",
            "           3       0.00      0.00      0.00         1\n",
            "           4       0.00      0.00      0.00        17\n",
            "           5       0.64      0.78      0.71       195\n",
            "           6       0.57      0.60      0.59       200\n",
            "           7       0.59      0.28      0.38        61\n",
            "           8       0.00      0.00      0.00         6\n",
            "\n",
            "    accuracy                           0.61       480\n",
            "   macro avg       0.30      0.28      0.28       480\n",
            "weighted avg       0.57      0.61      0.58       480\n",
            "\n",
            "Confusion Matrix:\n",
            " [[  0   0   1   0   0   0]\n",
            " [  0   0  13   4   0   0]\n",
            " [  0   0 153  41   1   0]\n",
            " [  0   0  71 121   8   0]\n",
            " [  0   0   0  44  17   0]\n",
            " [  0   0   0   3   3   0]]\n",
            "\n",
            "\n"
          ]
        },
        {
          "output_type": "stream",
          "name": "stderr",
          "text": [
            "/usr/local/lib/python3.10/dist-packages/sklearn/metrics/_classification.py:1471: UndefinedMetricWarning: Precision and F-score are ill-defined and being set to 0.0 in labels with no predicted samples. Use `zero_division` parameter to control this behavior.\n",
            "  _warn_prf(average, modifier, msg_start, len(result))\n",
            "/usr/local/lib/python3.10/dist-packages/sklearn/metrics/_classification.py:1471: UndefinedMetricWarning: Precision and F-score are ill-defined and being set to 0.0 in labels with no predicted samples. Use `zero_division` parameter to control this behavior.\n",
            "  _warn_prf(average, modifier, msg_start, len(result))\n",
            "/usr/local/lib/python3.10/dist-packages/sklearn/metrics/_classification.py:1471: UndefinedMetricWarning: Precision and F-score are ill-defined and being set to 0.0 in labels with no predicted samples. Use `zero_division` parameter to control this behavior.\n",
            "  _warn_prf(average, modifier, msg_start, len(result))\n"
          ]
        }
      ]
    },
    {
      "cell_type": "code",
      "source": [
        "from sklearn.neural_network import MLPClassifier\n",
        "model = MLPClassifier()\n",
        "model.fit(X_train, y_train)\n",
        "preds = model.predict(X_test)\n",
        "\n",
        "# Evaluate models\n",
        "print(\"--- {neural networks} ---\")\n",
        "e=accuracy_score(y_test, preds)\n",
        "print(\"Accuracy:\", accuracy_score(y_test, preds))\n",
        "print(\"Classification Report:\\n\", classification_report(y_test, preds))\n",
        "print(\"Confusion Matrix:\\n\", confusion_matrix(y_test, preds))\n",
        "print(\"\\n\")"
      ],
      "metadata": {
        "id": "bvwYhjs1-HYI",
        "colab": {
          "base_uri": "https://localhost:8080/"
        },
        "outputId": "d75799a9-a38d-4cde-b48e-26710bd261d3"
      },
      "execution_count": 35,
      "outputs": [
        {
          "output_type": "stream",
          "name": "stdout",
          "text": [
            "--- {neural networks} ---\n",
            "Accuracy: 0.5875\n",
            "Classification Report:\n",
            "               precision    recall  f1-score   support\n",
            "\n",
            "           3       0.00      0.00      0.00         1\n",
            "           4       0.50      0.06      0.11        17\n",
            "           5       0.64      0.76      0.69       195\n",
            "           6       0.58      0.56      0.56       200\n",
            "           7       0.45      0.36      0.40        61\n",
            "           8       0.00      0.00      0.00         6\n",
            "\n",
            "    accuracy                           0.59       480\n",
            "   macro avg       0.36      0.29      0.29       480\n",
            "weighted avg       0.57      0.59      0.57       480\n",
            "\n",
            "Confusion Matrix:\n",
            " [[  0   0   1   0   0   0]\n",
            " [  1   1  10   4   1   0]\n",
            " [  1   1 148  41   4   0]\n",
            " [  0   0  71 111  18   0]\n",
            " [  0   0   3  35  22   1]\n",
            " [  0   0   0   2   4   0]]\n",
            "\n",
            "\n"
          ]
        },
        {
          "output_type": "stream",
          "name": "stderr",
          "text": [
            "/usr/local/lib/python3.10/dist-packages/sklearn/neural_network/_multilayer_perceptron.py:691: ConvergenceWarning: Stochastic Optimizer: Maximum iterations (200) reached and the optimization hasn't converged yet.\n",
            "  warnings.warn(\n"
          ]
        }
      ]
    },
    {
      "cell_type": "code",
      "source": [
        "import matplotlib.pyplot as plt\n",
        "\n",
        "# Example model names and accuracy scores\n",
        "model_names = ['Logistic Regression', 'Decision Tree', 'Random Forest', 'SVM', 'Neural Network']\n",
        "accuracies = [a,b,c,d,e]\n",
        "\n",
        "# Plot\n",
        "plt.figure(figsize=(10, 6))\n",
        "plt.barh(model_names, accuracies, color='skyblue')\n",
        "plt.xlabel('Accuracy')\n",
        "plt.title('Model Comparison by Accuracy')\n",
        "plt.xlim(0, 1)  # Accuracy ranges from 0 to 1\n",
        "plt.grid(axis='x', linestyle='--', alpha=0.7)\n",
        "plt.show()\n"
      ],
      "metadata": {
        "colab": {
          "base_uri": "https://localhost:8080/",
          "height": 564
        },
        "id": "4cF4xSXwHPEY",
        "outputId": "91cb41a4-fbab-42db-9ffa-463d40f8d2dc"
      },
      "execution_count": 36,
      "outputs": [
        {
          "output_type": "display_data",
          "data": {
            "text/plain": [
              "<Figure size 1000x600 with 1 Axes>"
            ],
            "image/png": "[encoded data removed]"
          },
          "metadata": {}
        }
      ]
    },
    {
      "cell_type": "code",
      "source": [],
      "metadata": {
        "id": "upyuZ48tH57Y"
      },
      "execution_count": null,
      "outputs": []
    }
  ]
}